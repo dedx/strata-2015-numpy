{
 "metadata": {
  "name": "",
  "signature": "sha256:707a9646abeb445d631c255ebfea2cf39c095e96b3e9c8945c967ce23d649245"
 },
 "nbformat": 3,
 "nbformat_minor": 0,
 "worksheets": [
  {
   "cells": [
    {
     "cell_type": "heading",
     "level": 1,
     "metadata": {},
     "source": [
      "Introduction to NumPy: Slicing through big data faster"
     ]
    },
    {
     "cell_type": "markdown",
     "metadata": {},
     "source": [
      "**Jennifer Klay** [jklay@calpoly.edu](mailto:jklay@calpoly.edu)\n",
      "\n",
      "California Polytechnic State University, San Luis Obispo"
     ]
    },
    {
     "cell_type": "markdown",
     "metadata": {},
     "source": [
      "---"
     ]
    },
    {
     "cell_type": "markdown",
     "metadata": {},
     "source": [
      "This notebook was created from a selection of materials in the [SciPy Lectures](https://scipy-lectures.github.io/) series and these notebooks prepared by Jake Vanderplas: \n",
      "[Intro to NumPy](http://nbviewer.ipython.org/urls/raw.githubusercontent.com/jakevdp/2013_fall_ASTR599/master/notebooks/05_NumpyIntro.ipynb),\n",
      "[Efficient NumPy](http://nbviewer.ipython.org/urls/raw.githubusercontent.com/jakevdp/2013_fall_ASTR599/master/notebooks/11_EfficientNumpy.ipynb), and [Intro to Scipy](http://nbviewer.ipython.org/urls/raw.githubusercontent.com/jakevdp/2013_fall_ASTR599/master/notebooks/08_ScipyIntro.ipynb)."
     ]
    },
    {
     "cell_type": "markdown",
     "metadata": {},
     "source": [
      "---"
     ]
    },
    {
     "cell_type": "heading",
     "level": 2,
     "metadata": {},
     "source": [
      "Introduction"
     ]
    },
    {
     "cell_type": "markdown",
     "metadata": {},
     "source": [
      "While the Python language is an excellent tool for general-purpose programming, with a highly readable syntax, rich and powerful data types (strings, lists, sets, dictionaries, arbitrary length integers, etc) and a very comprehensive standard library, it was not designed specifically for mathematical and scientific computing. Neither the language nor its standard library have facilities for the efficient representation of multidimensional datasets, tools for linear algebra and general matrix manipulations (an essential building block of virtually all technical computing), nor any data visualization facilities."
     ]
    },
    {
     "cell_type": "markdown",
     "metadata": {},
     "source": [
      "SciPy is the premiere package for scientific computing in Python. It has many, many useful tools, which are central to scientific computing tasks you'll come across."
     ]
    },
    {
     "cell_type": "markdown",
     "metadata": {},
     "source": [
      "Some of the submodules available in SciPy that one could use in the analysis of large datasets include:\n",
      "\n",
      "* **File input/output:** `scipy.io`\n",
      "* **Special functions:** `scipy.special`\n",
      "* **Linear algebra operations:** `scipy.linalg`\n",
      "* **Fast Fourier transforms:** `scipy.fftpack`\n",
      "* **Optimization and fit:** `scipy.optimize`\n",
      "* **Statistics and random numbers:** `scipy.stats`\n",
      "* **Interpolation:** `scipy.interpolate`\n",
      "* **Numerical integration:** `scipy.integrate`\n",
      "* **Signal processing:** `scipy.signal`\n",
      "* **Image processing:** `scipy.ndimage`\n",
      "* **Sparse Matrices:** `scipy.sparse`\n",
      "* **Spatial metrics:** `scipy.spatial`"
     ]
    },
    {
     "cell_type": "markdown",
     "metadata": {},
     "source": [
      "The NumPy library forms the base layer for the entire SciPy ecosystem.  It can be imported into the notebook with"
     ]
    },
    {
     "cell_type": "code",
     "collapsed": false,
     "input": [
      "import numpy as np"
     ],
     "language": "python",
     "metadata": {},
     "outputs": [],
     "prompt_number": 1
    },
    {
     "cell_type": "markdown",
     "metadata": {},
     "source": [
      "---"
     ]
    },
    {
     "cell_type": "heading",
     "level": 2,
     "metadata": {},
     "source": [
      "Basics of NumPy Arrays"
     ]
    },
    {
     "cell_type": "markdown",
     "metadata": {},
     "source": [
      "Python lists are very flexible containers, but they are poorly suited to represent efficiently common mathematical constructs like vectors and matrices."
     ]
    },
    {
     "cell_type": "markdown",
     "metadata": {},
     "source": [
      "The main object provided by NumPy is a powerful array. We'll start by exploring . We can explore how the NumPy array differs from a Python list by creating a simple list and an array with the same contents as the list:"
     ]
    },
    {
     "cell_type": "code",
     "collapsed": false,
     "input": [
      "lst = [10, 20, 30, 40]\n",
      "arr = np.array([10, 20, 30, 40])"
     ],
     "language": "python",
     "metadata": {},
     "outputs": [],
     "prompt_number": 2
    },
    {
     "cell_type": "markdown",
     "metadata": {},
     "source": [
      "Elements of a one-dimensional array are accessed with the same syntax as a list:"
     ]
    },
    {
     "cell_type": "code",
     "collapsed": false,
     "input": [
      "arr[0] #show the first element in the array"
     ],
     "language": "python",
     "metadata": {},
     "outputs": [
      {
       "metadata": {},
       "output_type": "pyout",
       "prompt_number": 11,
       "text": [
        "10"
       ]
      }
     ],
     "prompt_number": 11
    },
    {
     "cell_type": "code",
     "collapsed": false,
     "input": [
      "lst[0] #show the first element in the list"
     ],
     "language": "python",
     "metadata": {},
     "outputs": [
      {
       "metadata": {},
       "output_type": "pyout",
       "prompt_number": 4,
       "text": [
        "10"
       ]
      }
     ],
     "prompt_number": 4
    },
    {
     "cell_type": "code",
     "collapsed": false,
     "input": [
      "arr[-1] #show the LAST element in the array"
     ],
     "language": "python",
     "metadata": {},
     "outputs": [
      {
       "metadata": {},
       "output_type": "pyout",
       "prompt_number": 5,
       "text": [
        "40"
       ]
      }
     ],
     "prompt_number": 5
    },
    {
     "cell_type": "code",
     "collapsed": false,
     "input": [
      "arr[2:] #show the THIRD through last elements in the array"
     ],
     "language": "python",
     "metadata": {},
     "outputs": [
      {
       "metadata": {},
       "output_type": "pyout",
       "prompt_number": 12,
       "text": [
        "array([30,  1])"
       ]
      }
     ],
     "prompt_number": 12
    },
    {
     "cell_type": "markdown",
     "metadata": {},
     "source": [
      "---"
     ]
    },
    {
     "cell_type": "heading",
     "level": 2,
     "metadata": {},
     "source": [
      "Differences between arrays and lists"
     ]
    },
    {
     "cell_type": "markdown",
     "metadata": {},
     "source": [
      "The first difference to note between lists and arrays is that arrays are homogeneous; i.e. all elements of an array must be of the same type. In contrast, lists can contain elements of arbitrary type. For example, we can change the last element in our list above to be a string, but the same action won't work with a NumPy array:"
     ]
    },
    {
     "cell_type": "code",
     "collapsed": false,
     "input": [
      "lst[-1] = 'a string inside a list'\n",
      "lst"
     ],
     "language": "python",
     "metadata": {},
     "outputs": [
      {
       "metadata": {},
       "output_type": "pyout",
       "prompt_number": 7,
       "text": [
        "[10, 20, 30, 'a string inside a list']"
       ]
      }
     ],
     "prompt_number": 7
    },
    {
     "cell_type": "code",
     "collapsed": false,
     "input": [
      "arr[-1] = 'a string inside an array'"
     ],
     "language": "python",
     "metadata": {},
     "outputs": [
      {
       "ename": "ValueError",
       "evalue": "invalid literal for long() with base 10: 'a string inside an array'",
       "output_type": "pyerr",
       "traceback": [
        "\u001b[0;31m---------------------------------------------------------------------------\u001b[0m\n\u001b[0;31mValueError\u001b[0m                                Traceback (most recent call last)",
        "\u001b[0;32m<ipython-input-8-29c0bfa5fa8a>\u001b[0m in \u001b[0;36m<module>\u001b[0;34m()\u001b[0m\n\u001b[0;32m----> 1\u001b[0;31m \u001b[0marr\u001b[0m\u001b[0;34m[\u001b[0m\u001b[0;34m-\u001b[0m\u001b[0;36m1\u001b[0m\u001b[0;34m]\u001b[0m \u001b[0;34m=\u001b[0m \u001b[0;34m'a string inside an array'\u001b[0m\u001b[0;34m\u001b[0m\u001b[0m\n\u001b[0m",
        "\u001b[0;31mValueError\u001b[0m: invalid literal for long() with base 10: 'a string inside an array'"
       ]
      }
     ],
     "prompt_number": 8
    },
    {
     "cell_type": "markdown",
     "metadata": {},
     "source": [
      "The information about the type of an array is contained in its `dtype` attribute:"
     ]
    },
    {
     "cell_type": "code",
     "collapsed": false,
     "input": [
      "arr.dtype"
     ],
     "language": "python",
     "metadata": {},
     "outputs": [
      {
       "metadata": {},
       "output_type": "pyout",
       "prompt_number": 9,
       "text": [
        "dtype('int64')"
       ]
      }
     ],
     "prompt_number": 9
    },
    {
     "cell_type": "markdown",
     "metadata": {},
     "source": [
      "Once an array has been created, its `dtype` is fixed and it can only store elements of the same type. For this example where the `dtype` is integer, if we store a floating point number it will be automatically converted into an integer:"
     ]
    },
    {
     "cell_type": "code",
     "collapsed": false,
     "input": [
      "arr[-1] = 1.234\n",
      "arr"
     ],
     "language": "python",
     "metadata": {},
     "outputs": [
      {
       "metadata": {},
       "output_type": "pyout",
       "prompt_number": 10,
       "text": [
        "array([10, 20, 30,  1])"
       ]
      }
     ],
     "prompt_number": 10
    },
    {
     "cell_type": "markdown",
     "metadata": {},
     "source": [
      "---"
     ]
    },
    {
     "cell_type": "heading",
     "level": 2,
     "metadata": {},
     "source": [
      "Array Creation"
     ]
    },
    {
     "cell_type": "markdown",
     "metadata": {},
     "source": [
      "As we did above, you can create an array from a python list, but there are other methods of creating arrays that are very useful.  For example, we may want to create an array initialized to a specific value, like 0 or 1, which can then be built upon with addition or multiplication to get arrays of any initial value.  To create these, use `zeros` or `ones` and specify the desired type:"
     ]
    },
    {
     "cell_type": "code",
     "collapsed": false,
     "input": [
      "np.zeros(5, dtype=float)"
     ],
     "language": "python",
     "metadata": {},
     "outputs": []
    },
    {
     "cell_type": "code",
     "collapsed": false,
     "input": [
      "np.zeros(3, dtype=int)"
     ],
     "language": "python",
     "metadata": {},
     "outputs": []
    },
    {
     "cell_type": "code",
     "collapsed": false,
     "input": [
      "np.zeros(3, dtype=complex)"
     ],
     "language": "python",
     "metadata": {},
     "outputs": []
    },
    {
     "cell_type": "code",
     "collapsed": false,
     "input": [
      "print '5 ones:', np.ones(5)"
     ],
     "language": "python",
     "metadata": {},
     "outputs": []
    },
    {
     "cell_type": "code",
     "collapsed": false,
     "input": [
      "a = np.empty(4)\n",
      "a.fill(5.5)\n",
      "a"
     ],
     "language": "python",
     "metadata": {},
     "outputs": []
    },
    {
     "cell_type": "code",
     "collapsed": false,
     "input": [
      "a = np.empty(3,dtype=int)\n",
      "a.fill(7)\n",
      "a"
     ],
     "language": "python",
     "metadata": {},
     "outputs": []
    },
    {
     "cell_type": "markdown",
     "metadata": {},
     "source": [
      "Numpy also offers the `arange` function, which works like the builtin `range` but returns an array instead of a list:"
     ]
    },
    {
     "cell_type": "code",
     "collapsed": false,
     "input": [
      "np.arange(5)"
     ],
     "language": "python",
     "metadata": {},
     "outputs": []
    },
    {
     "cell_type": "markdown",
     "metadata": {},
     "source": [
      "But notice something important about how it is used:"
     ]
    },
    {
     "cell_type": "code",
     "collapsed": false,
     "input": [
      "c = np.arange(2,16,2)\n",
      "c"
     ],
     "language": "python",
     "metadata": {},
     "outputs": []
    },
    {
     "cell_type": "markdown",
     "metadata": {},
     "source": [
      "The max number in the range is exclusive because python numbering starts at zero."
     ]
    },
    {
     "cell_type": "markdown",
     "metadata": {},
     "source": [
      "Alternatively, the `linspace` and `logspace` functions create linearly and logarithmically-spaced grids respectively, with a fixed number of points and including both ends of the specified interval:"
     ]
    },
    {
     "cell_type": "code",
     "collapsed": false,
     "input": [
      "print \"A linear grid between 0 and 1 with 4 elements:\"\n",
      "print np.linspace(0, 1, 4)"
     ],
     "language": "python",
     "metadata": {},
     "outputs": []
    },
    {
     "cell_type": "code",
     "collapsed": false,
     "input": [
      "print \"A logarithmic grid between 10**1 and 10**3 with 4 elements:\"\n",
      "print np.logspace(1, 3, 4)"
     ],
     "language": "python",
     "metadata": {},
     "outputs": []
    },
    {
     "cell_type": "markdown",
     "metadata": {},
     "source": [
      "It is often useful to create arrays with random numbers that follow a specific distribution. The `np.random` module contains a number of functions that can be used to this effect, for example this will produce an array of 5 random samples taken from a standard normal distribution (0 mean and variance 1):"
     ]
    },
    {
     "cell_type": "code",
     "collapsed": false,
     "input": [
      "np.random.randn(5)"
     ],
     "language": "python",
     "metadata": {},
     "outputs": []
    },
    {
     "cell_type": "markdown",
     "metadata": {},
     "source": [
      "whereas this will also give 5 samples, but from a normal distribution with a mean of 10 and a variance of 3:"
     ]
    },
    {
     "cell_type": "code",
     "collapsed": false,
     "input": [
      "norm10 = np.random.normal(10, 3, 5)\n",
      "norm10"
     ],
     "language": "python",
     "metadata": {},
     "outputs": []
    },
    {
     "cell_type": "markdown",
     "metadata": {},
     "source": [
      "---"
     ]
    },
    {
     "cell_type": "heading",
     "level": 2,
     "metadata": {},
     "source": [
      "Multidimensional arrays"
     ]
    },
    {
     "cell_type": "markdown",
     "metadata": {},
     "source": [
      "Numpy can create arrays of aribtrary dimensions.  For example, a list of lists can be used to initialize a two dimensional array:"
     ]
    },
    {
     "cell_type": "code",
     "collapsed": false,
     "input": [
      "lst2 = [[1, 2], [3, 4]]\n",
      "arr2 = np.array([[1, 2], [3, 4]])\n",
      "arr2"
     ],
     "language": "python",
     "metadata": {},
     "outputs": []
    },
    {
     "cell_type": "markdown",
     "metadata": {},
     "source": [
      "With two-dimensional arrays we start seeing the power of NumPy: while a nested list can be indexed using repeatedly the `[ ]` operator, multidimensional arrays support a much more natural indexing syntax with a single `[ ]` and a set of indices separated by commas:"
     ]
    },
    {
     "cell_type": "code",
     "collapsed": false,
     "input": [
      "print lst2[0][1]\n",
      "print arr2[0,1]"
     ],
     "language": "python",
     "metadata": {},
     "outputs": []
    },
    {
     "cell_type": "markdown",
     "metadata": {},
     "source": [
      "Most of the array creation functions listed above can be used with more than one dimension, for example:"
     ]
    },
    {
     "cell_type": "code",
     "collapsed": false,
     "input": [
      "np.zeros((2,3))"
     ],
     "language": "python",
     "metadata": {},
     "outputs": []
    },
    {
     "cell_type": "markdown",
     "metadata": {},
     "source": [
      "The shape of an array can be changed at any time, as long as the total number of elements is unchanged. For example, if we want a 2x4 array with numbers increasing from 0, the easiest way to create it is:"
     ]
    },
    {
     "cell_type": "code",
     "collapsed": false,
     "input": [
      "arr = np.arange(8).reshape(2, 4)\n",
      "print arr"
     ],
     "language": "python",
     "metadata": {},
     "outputs": []
    },
    {
     "cell_type": "markdown",
     "metadata": {},
     "source": [
      "**But note that reshaping (like most NumPy operations) provides a** ***view of the same memory***:"
     ]
    },
    {
     "cell_type": "code",
     "collapsed": false,
     "input": [
      "arr = np.arange(8)\n",
      "arr2 = arr.reshape(2, 4)\n",
      "\n",
      "arr[0] = 1000\n",
      "print arr\n",
      "print arr2"
     ],
     "language": "python",
     "metadata": {},
     "outputs": []
    },
    {
     "cell_type": "markdown",
     "metadata": {},
     "source": [
      "This lack of copying allows for very efficient vectorized operations."
     ]
    },
    {
     "cell_type": "markdown",
     "metadata": {},
     "source": [
      "With multidimensional arrays, you can also use slices, and you can mix and match slices and single indices in the different dimensions:"
     ]
    },
    {
     "cell_type": "code",
     "collapsed": false,
     "input": [
      "print 'Slicing in the second row:', arr2[1, 2:4]\n",
      "print 'All rows, third column   :', arr2[:, 2]"
     ],
     "language": "python",
     "metadata": {},
     "outputs": []
    },
    {
     "cell_type": "code",
     "collapsed": false,
     "input": [
      "print 'First row:  ', arr2[0]\n",
      "print 'Second row: ', arr2[1]"
     ],
     "language": "python",
     "metadata": {},
     "outputs": []
    },
    {
     "cell_type": "code",
     "collapsed": false,
     "input": [
      "#Print some properties of the array arr2\n",
      "print 'Data type                :', arr2.dtype\n",
      "print 'Total number of elements :', arr2.size\n",
      "print 'Number of dimensions     :', arr2.ndim\n",
      "print 'Shape (dimensionality)   :', arr2.shape\n",
      "print 'Memory used (in bytes)   :', arr2.nbytes"
     ],
     "language": "python",
     "metadata": {},
     "outputs": []
    },
    {
     "cell_type": "code",
     "collapsed": false,
     "input": [
      "#Print some useful information that the arrays can calculate for us\n",
      "print 'Minimum and maximum             :', arr2.min(), arr2.max()\n",
      "print 'Sum and product of all elements :', arr2.sum(), arr2.prod()\n",
      "print 'Mean and standard deviation     :', arr2.mean(), arr2.std()"
     ],
     "language": "python",
     "metadata": {},
     "outputs": []
    },
    {
     "cell_type": "markdown",
     "metadata": {},
     "source": [
      "It's also possible to do the computation along a single dimension, by passing the axis parameter; for example:"
     ]
    },
    {
     "cell_type": "code",
     "collapsed": false,
     "input": [
      "print 'For the following array:\\n', arr2\n",
      "print 'The sum of elements along the rows is    :', arr2.sum(axis=1)\n",
      "print 'The sum of elements along the columns is :', arr2.sum(axis=0)"
     ],
     "language": "python",
     "metadata": {},
     "outputs": []
    },
    {
     "cell_type": "markdown",
     "metadata": {},
     "source": [
      "As you can see in this example, the value of the `axis` parameter is the dimension which will be consumed once the operation has been carried out. This is why to sum along the rows we use `axis=1`."
     ]
    },
    {
     "cell_type": "markdown",
     "metadata": {},
     "source": [
      "Another widely used property of arrays is the `.T` attribute, which allows you to access the transpose of the array:"
     ]
    },
    {
     "cell_type": "code",
     "collapsed": false,
     "input": [
      "print 'Array:\\n', arr2\n",
      "print 'Transpose:\\n', arr2.T"
     ],
     "language": "python",
     "metadata": {},
     "outputs": []
    },
    {
     "cell_type": "markdown",
     "metadata": {},
     "source": [
      "NumPy can also create some useful matrices:"
     ]
    },
    {
     "cell_type": "code",
     "collapsed": false,
     "input": [
      "#identity matrix\n",
      "c = np.eye(3)\n",
      "c"
     ],
     "language": "python",
     "metadata": {},
     "outputs": []
    },
    {
     "cell_type": "code",
     "collapsed": false,
     "input": [
      "#diagonal matrix wth elements of an array\n",
      "d = np.diag(np.array([1,2,3,4]))\n",
      "d"
     ],
     "language": "python",
     "metadata": {},
     "outputs": []
    },
    {
     "cell_type": "code",
     "collapsed": false,
     "input": [
      "e = np.diag(np.linspace(0,1,6))\n",
      "e"
     ],
     "language": "python",
     "metadata": {},
     "outputs": []
    },
    {
     "cell_type": "markdown",
     "metadata": {},
     "source": [
      "To access the elements of a multidimensional (in this case 2D) array:"
     ]
    },
    {
     "cell_type": "code",
     "collapsed": false,
     "input": [
      "e[1,1]"
     ],
     "language": "python",
     "metadata": {},
     "outputs": []
    },
    {
     "cell_type": "code",
     "collapsed": false,
     "input": [
      "e[2,2]"
     ],
     "language": "python",
     "metadata": {},
     "outputs": []
    },
    {
     "cell_type": "markdown",
     "metadata": {},
     "source": [
      "---"
     ]
    },
    {
     "cell_type": "heading",
     "level": 2,
     "metadata": {},
     "source": [
      "Exercise 1"
     ]
    },
    {
     "cell_type": "markdown",
     "metadata": {},
     "source": [
      "Create the following arrays with correct data types:\n",
      "\n",
      "```\n",
      "[[1 1 1 1]\n",
      " [1 1 1 1]\n",
      " [1 1 1 2]\n",
      " [1 6 1 1]]\n",
      "```\n",
      " \n",
      "```\n",
      "[[0. 0. 0. 0. 0.]\n",
      " [2. 0. 0. 0. 0.]\n",
      " [0. 3. 0. 0. 0.]\n",
      " [0. 0. 4. 0. 0.]\n",
      " [0. 0. 0. 5. 0.]\n",
      " [0. 0. 0. 0. 6.]]\n",
      "```\n",
      " \n",
      "You should be able to accomplish this in 3 lines of code or less for each one. The documentation for the `diag` method may be helpful."
     ]
    },
    {
     "cell_type": "code",
     "collapsed": false,
     "input": [
      "#your code here"
     ],
     "language": "python",
     "metadata": {},
     "outputs": []
    },
    {
     "cell_type": "heading",
     "level": 2,
     "metadata": {},
     "source": [
      "Exercise 2"
     ]
    },
    {
     "cell_type": "markdown",
     "metadata": {},
     "source": [
      "Read the documentation for `np.tile` and use this function to construct the following array:\n",
      "\n",
      "```\n",
      "[[4 3 4 3 4 3]\n",
      " [2 1 2 1 2 1]\n",
      " [4 3 4 3 4 3]\n",
      " [2 1 2 1 2 1]]\n",
      "```"
     ]
    },
    {
     "cell_type": "code",
     "collapsed": false,
     "input": [
      "#your code here"
     ],
     "language": "python",
     "metadata": {},
     "outputs": [],
     "prompt_number": 66
    },
    {
     "cell_type": "markdown",
     "metadata": {},
     "source": [
      "---"
     ]
    },
    {
     "cell_type": "heading",
     "level": 2,
     "metadata": {},
     "source": [
      "Slicing Basics"
     ]
    },
    {
     "cell_type": "markdown",
     "metadata": {},
     "source": [
      "To select a range of elements in the array, you can use slices, just like for Python lists:"
     ]
    },
    {
     "cell_type": "code",
     "collapsed": false,
     "input": [
      "a = np.arange(10)\n",
      "a"
     ],
     "language": "python",
     "metadata": {},
     "outputs": []
    },
    {
     "cell_type": "code",
     "collapsed": false,
     "input": [
      "a[:4]"
     ],
     "language": "python",
     "metadata": {},
     "outputs": []
    },
    {
     "cell_type": "code",
     "collapsed": false,
     "input": [
      "a[2:4]"
     ],
     "language": "python",
     "metadata": {},
     "outputs": []
    },
    {
     "cell_type": "code",
     "collapsed": false,
     "input": [
      "a[5:]"
     ],
     "language": "python",
     "metadata": {},
     "outputs": []
    },
    {
     "cell_type": "code",
     "collapsed": false,
     "input": [
      "a[:]"
     ],
     "language": "python",
     "metadata": {},
     "outputs": []
    },
    {
     "cell_type": "markdown",
     "metadata": {},
     "source": [
      "You can also give the step size:"
     ]
    },
    {
     "cell_type": "code",
     "collapsed": false,
     "input": [
      "a[2:9:3]"
     ],
     "language": "python",
     "metadata": {},
     "outputs": []
    },
    {
     "cell_type": "markdown",
     "metadata": {},
     "source": [
      "Arrays allow for a more sophisticated kind of indexing which is very powerful: you can index an array with another array, and in particular with an array of boolean values. This is particluarly useful to extract information from an array that matches a certain condition."
     ]
    },
    {
     "cell_type": "markdown",
     "metadata": {},
     "source": [
      "Consider for example that in the array `norm10` we want to replace all values above 9 with the value 0. We can do so by first finding the mask that indicates where this condition is true or false:"
     ]
    },
    {
     "cell_type": "code",
     "collapsed": false,
     "input": [
      "norm10 = np.random.normal(10, 3, 5)\n",
      "norm10"
     ],
     "language": "python",
     "metadata": {},
     "outputs": []
    },
    {
     "cell_type": "code",
     "collapsed": false,
     "input": [
      "mask = norm10 > 9\n",
      "mask"
     ],
     "language": "python",
     "metadata": {},
     "outputs": []
    },
    {
     "cell_type": "markdown",
     "metadata": {},
     "source": [
      "Now that we have this mask, we can use it to either read those values or to reset them to 0:"
     ]
    },
    {
     "cell_type": "code",
     "collapsed": false,
     "input": [
      "print 'Values above 9:', norm10[mask]"
     ],
     "language": "python",
     "metadata": {},
     "outputs": []
    },
    {
     "cell_type": "code",
     "collapsed": false,
     "input": [
      "print 'Resetting all values above 9 to 0...'\n",
      "norm10[mask] = 0\n",
      "print norm10"
     ],
     "language": "python",
     "metadata": {},
     "outputs": []
    },
    {
     "cell_type": "markdown",
     "metadata": {},
     "source": [
      "---"
     ]
    },
    {
     "cell_type": "heading",
     "level": 2,
     "metadata": {},
     "source": [
      "Exercise 3"
     ]
    },
    {
     "cell_type": "markdown",
     "metadata": {},
     "source": [
      "Let\u2019s create a prime number sieve. We will use the sieve to see what numbers between\n",
      "0 and 100 are prime.\n",
      "\n",
      "First, construct an array of booleans called `is_prime` with shape `(100,)`, filled with\n",
      "`True` in all the elements."
     ]
    },
    {
     "cell_type": "code",
     "collapsed": false,
     "input": [
      "is_prime = np.ones((100,), dtype=bool)\n",
      "print is_prime"
     ],
     "language": "python",
     "metadata": {},
     "outputs": []
    },
    {
     "cell_type": "markdown",
     "metadata": {},
     "source": [
      "The index of each boolean element represents the number. \u201cCross out\u201d `0` and `1`, which are not primes. You can either set them to `False` or `0` (which python recognizes as equivalent to `False` for boolean types)."
     ]
    },
    {
     "cell_type": "code",
     "collapsed": false,
     "input": [
      "#your code here\n",
      "print is_prime #elements 0 and 1 should be False"
     ],
     "language": "python",
     "metadata": {},
     "outputs": []
    },
    {
     "cell_type": "markdown",
     "metadata": {},
     "source": [
      "For each subsequent integer `j` starting from `2`, cross out its higher multiples. This is the famous sieve algorithm developed by Eratosthenes and described on [wikipedia](http://en.wikipedia.org/wiki/Sieve_of_Eratosthenes). "
     ]
    },
    {
     "cell_type": "code",
     "collapsed": false,
     "input": [
      "N_max = int(np.sqrt(len(is_prime)))\n",
      "for j in range(2, N_max):\n",
      "    is_prime[2*j::j] = False #Make sure you understand what this code is doing. What does this slicing of the array mean?\n",
      "print is_prime"
     ],
     "language": "python",
     "metadata": {},
     "outputs": []
    },
    {
     "cell_type": "markdown",
     "metadata": {},
     "source": [
      "The `np.nonzero` function (try `help(np.nonzero)` or `np.nonzero?`) can be used to print a tuple of the prime numbers, which are the elements in the `is_prime` array that are still `True`."
     ]
    },
    {
     "cell_type": "code",
     "collapsed": false,
     "input": [
      "#np.nonzero?\n",
      "print np.nonzero(is_prime)"
     ],
     "language": "python",
     "metadata": {},
     "outputs": []
    },
    {
     "cell_type": "markdown",
     "metadata": {},
     "source": [
      "How many primes are there?"
     ]
    },
    {
     "cell_type": "code",
     "collapsed": false,
     "input": [
      "print np.count_nonzero(is_prime)"
     ],
     "language": "python",
     "metadata": {},
     "outputs": []
    },
    {
     "cell_type": "markdown",
     "metadata": {},
     "source": [
      "Combine all of this to create a new function, called `eratosthenes_sieve(maximum)` that takes one argument, `maximum`, the maximum number to test for primes, and returns an array containing the prime numbers between `2` and `maximum`. Print the result for the test cases where `maximum` = `10` and `100`. "
     ]
    },
    {
     "cell_type": "code",
     "collapsed": false,
     "input": [
      "def eratosthenes_sieve(maximum):\n",
      "    \"\"\"Use the famous sieve of Eratosthenes to find all the\n",
      "    prime numbers between 2 and maximum.\n",
      "        Input: maximum range for the primes\n",
      "        Output: NumPy array of prime numbers between 2 and maximum\"\"\"\n",
      "\n",
      "    #\n",
      "    # your code here\n",
      "    #\n",
      "    return np.ones(maximum, dtype=int) # dummy output, replace with your result"
     ],
     "language": "python",
     "metadata": {},
     "outputs": []
    },
    {
     "cell_type": "code",
     "collapsed": false,
     "input": [
      "#Call it with maximum 10\n",
      "output10 = eratosthenes_sieve(10)\n",
      "print output10\n",
      "print np.count_nonzero(output10)"
     ],
     "language": "python",
     "metadata": {},
     "outputs": []
    },
    {
     "cell_type": "code",
     "collapsed": false,
     "input": [
      "#Call it with maximum 100\n",
      "output100 = eratosthenes_sieve(100)\n",
      "print output100\n",
      "print np.count_nonzero(output100)"
     ],
     "language": "python",
     "metadata": {},
     "outputs": []
    },
    {
     "cell_type": "markdown",
     "metadata": {},
     "source": [
      "---"
     ]
    },
    {
     "cell_type": "heading",
     "level": 2,
     "metadata": {},
     "source": [
      "Operations with Arrays"
     ]
    },
    {
     "cell_type": "markdown",
     "metadata": {},
     "source": [
      "Arrays support all regular arithmetic operators, and the NumPy library also contains a complete collection of basic mathematical functions that operate on arrays. It is important to remember that in general, all operations with arrays are applied element-wise, i.e., are applied to all the elements of the array at the same time. Consider for example:"
     ]
    },
    {
     "cell_type": "code",
     "collapsed": false,
     "input": [
      "arr1 = np.arange(4)\n",
      "arr2 = np.arange(10, 14)\n",
      "print arr1, '+', arr2, '=', arr1+arr2"
     ],
     "language": "python",
     "metadata": {},
     "outputs": []
    },
    {
     "cell_type": "markdown",
     "metadata": {},
     "source": [
      "Importantly, you must remember that even the multiplication operator is by default applied element-wise, it is not the matrix multiplication from linear algebra (as is the case in Matlab, for example):"
     ]
    },
    {
     "cell_type": "code",
     "collapsed": false,
     "input": [
      "print arr1, '*', arr2, '=', arr1*arr2"
     ],
     "language": "python",
     "metadata": {},
     "outputs": []
    },
    {
     "cell_type": "markdown",
     "metadata": {},
     "source": [
      "We may also multiply an array by a scalar:"
     ]
    },
    {
     "cell_type": "code",
     "collapsed": false,
     "input": [
      "1.5 * arr1"
     ],
     "language": "python",
     "metadata": {},
     "outputs": []
    },
    {
     "cell_type": "markdown",
     "metadata": {},
     "source": [
      "---"
     ]
    },
    {
     "cell_type": "heading",
     "level": 2,
     "metadata": {},
     "source": [
      "Broadcasting"
     ]
    },
    {
     "cell_type": "markdown",
     "metadata": {},
     "source": [
      "While in principle arrays must always match in their dimensionality in order for an operation to be valid, NumPy will broadcast dimensions when possible. Here is an example of broadcasting a scalar to a 1D array:"
     ]
    },
    {
     "cell_type": "code",
     "collapsed": false,
     "input": [
      "print np.arange(3)\n",
      "print np.arange(3) + 5"
     ],
     "language": "python",
     "metadata": {},
     "outputs": [
      {
       "output_type": "stream",
       "stream": "stdout",
       "text": [
        "[0 1 2]\n",
        "[5 6 7]\n"
       ]
      }
     ],
     "prompt_number": 13
    },
    {
     "cell_type": "markdown",
     "metadata": {},
     "source": [
      "We can also broadcast a 1D array to a 2D array, in this case adding a vector to all rows of a matrix:"
     ]
    },
    {
     "cell_type": "code",
     "collapsed": false,
     "input": [
      "print np.ones((3,3))\n",
      "print \" + \"\n",
      "print np.arange(3)\n",
      "print \" = \"\n",
      "print np.ones((3, 3)) + np.arange(3)"
     ],
     "language": "python",
     "metadata": {},
     "outputs": [
      {
       "output_type": "stream",
       "stream": "stdout",
       "text": [
        "[[ 1.  1.  1.]\n",
        " [ 1.  1.  1.]\n",
        " [ 1.  1.  1.]]\n",
        " + \n",
        "[0 1 2]\n",
        " = \n",
        "[[ 1.  2.  3.]\n",
        " [ 1.  2.  3.]\n",
        " [ 1.  2.  3.]]\n"
       ]
      }
     ],
     "prompt_number": 14
    },
    {
     "cell_type": "markdown",
     "metadata": {},
     "source": [
      "We can also broadcast in two directions at a time:"
     ]
    },
    {
     "cell_type": "code",
     "collapsed": false,
     "input": [
      "np.arange(3).reshape((3, 1)) + np.arange(3)"
     ],
     "language": "python",
     "metadata": {},
     "outputs": [
      {
       "metadata": {},
       "output_type": "pyout",
       "prompt_number": 15,
       "text": [
        "array([[0, 1, 2],\n",
        "       [1, 2, 3],\n",
        "       [2, 3, 4]])"
       ]
      }
     ],
     "prompt_number": 15
    },
    {
     "cell_type": "heading",
     "level": 3,
     "metadata": {},
     "source": [
      "Rules of Broadcasting"
     ]
    },
    {
     "cell_type": "markdown",
     "metadata": {},
     "source": [
      "Broadcasting rules can do the following:\n",
      "\n",
      "* If the two arrays differ in their number of dimensions, the shape of the array with fewer dimensions is padded with additional elements until it matches the other on its leading (left) side.\n",
      "\n",
      "* If the shape of the two arrays does not match in any dimension, the array with shape equal to 1 in that dimension is stretched to match the other shape.\n",
      "\n",
      "* If in any dimension the sizes disagree and neither is equal to 1, an error is raised."
     ]
    },
    {
     "cell_type": "markdown",
     "metadata": {},
     "source": [
      "Note that all of this happens without ever actually creating the stretched arrays in memory! This broadcasting behavior is in practice enormously powerful, especially because when NumPy broadcasts to create new dimensions or to 'stretch' existing ones, it doesn't actually replicate the data. In the example above the operation is carried as if the 1.5 was a 1-d array with 1.5 in all of its entries, but no actual array was ever created. This can save lots of memory in cases when the arrays in question are large and can have significant performance implications."
     ]
    },
    {
     "cell_type": "markdown",
     "metadata": {},
     "source": [
      "For example, when we do\n",
      "\n",
      "```\n",
      "np.arange(3) + 5\n",
      "```\n",
      "\n",
      "The scalar 5 is\n",
      "\n",
      "* first 'promoted' to a 1-dimensional array of length 1\n",
      "* then, this array is 'stretched' to length 3 to match the first array.\n",
      "\n",
      "After these two operations are complete, the addition can proceed as now both operands are one-dimensional arrays of length 3."
     ]
    },
    {
     "cell_type": "markdown",
     "metadata": {},
     "source": [
      "The general rule is: when operating on two arrays, NumPy compares their shapes element-wise. It starts with the trailing dimensions, and works its way forward, creating dimensions of length 1 as needed. Two dimensions are considered compatible when\n",
      "\n",
      "* they are equal to begin with, or\n",
      "* one of them is 1; in this case numpy will do the 'stretching' to make them equal.\n",
      "\n",
      "If these conditions are not met, a `ValueError: frames are not aligned` exception is thrown, indicating that the arrays have incompatible shapes. The size of the resulting array is the maximum size along each dimension of the input arrays."
     ]
    },
    {
     "cell_type": "markdown",
     "metadata": {},
     "source": [
      "---"
     ]
    },
    {
     "cell_type": "heading",
     "level": 2,
     "metadata": {},
     "source": [
      "Universal Functions or `ufuncs`"
     ]
    },
    {
     "cell_type": "markdown",
     "metadata": {},
     "source": [
      "NumPy ships with a full complement of mathematical functions that work on entire arrays, including logarithms, exponentials, trigonometric and hyperbolic trigonometric functions, etc. Furthermore, SciPy ships a rich special function library in the `scipy.special` module that includes Bessel, Airy, Fresnel, Laguerre and other classical special functions. For example, sampling the sine function at 100 points between 0 and $2\\pi$ is as simple as:"
     ]
    },
    {
     "cell_type": "code",
     "collapsed": false,
     "input": [
      "x = np.linspace(0, 2*np.pi, 100)\n",
      "y = np.sin(x)\n",
      "#JLK ADD PLOT OF THIS FUNCTION!!"
     ],
     "language": "python",
     "metadata": {},
     "outputs": [
      {
       "metadata": {},
       "output_type": "pyout",
       "prompt_number": 17,
       "text": [
        "array([  0.00000000e+00,   6.34239197e-02,   1.26592454e-01,\n",
        "         1.89251244e-01,   2.51147987e-01,   3.12033446e-01,\n",
        "         3.71662456e-01,   4.29794912e-01,   4.86196736e-01,\n",
        "         5.40640817e-01,   5.92907929e-01,   6.42787610e-01,\n",
        "         6.90079011e-01,   7.34591709e-01,   7.76146464e-01,\n",
        "         8.14575952e-01,   8.49725430e-01,   8.81453363e-01,\n",
        "         9.09631995e-01,   9.34147860e-01,   9.54902241e-01,\n",
        "         9.71811568e-01,   9.84807753e-01,   9.93838464e-01,\n",
        "         9.98867339e-01,   9.99874128e-01,   9.96854776e-01,\n",
        "         9.89821442e-01,   9.78802446e-01,   9.63842159e-01,\n",
        "         9.45000819e-01,   9.22354294e-01,   8.95993774e-01,\n",
        "         8.66025404e-01,   8.32569855e-01,   7.95761841e-01,\n",
        "         7.55749574e-01,   7.12694171e-01,   6.66769001e-01,\n",
        "         6.18158986e-01,   5.67059864e-01,   5.13677392e-01,\n",
        "         4.58226522e-01,   4.00930535e-01,   3.42020143e-01,\n",
        "         2.81732557e-01,   2.20310533e-01,   1.58001396e-01,\n",
        "         9.50560433e-02,   3.17279335e-02,  -3.17279335e-02,\n",
        "        -9.50560433e-02,  -1.58001396e-01,  -2.20310533e-01,\n",
        "        -2.81732557e-01,  -3.42020143e-01,  -4.00930535e-01,\n",
        "        -4.58226522e-01,  -5.13677392e-01,  -5.67059864e-01,\n",
        "        -6.18158986e-01,  -6.66769001e-01,  -7.12694171e-01,\n",
        "        -7.55749574e-01,  -7.95761841e-01,  -8.32569855e-01,\n",
        "        -8.66025404e-01,  -8.95993774e-01,  -9.22354294e-01,\n",
        "        -9.45000819e-01,  -9.63842159e-01,  -9.78802446e-01,\n",
        "        -9.89821442e-01,  -9.96854776e-01,  -9.99874128e-01,\n",
        "        -9.98867339e-01,  -9.93838464e-01,  -9.84807753e-01,\n",
        "        -9.71811568e-01,  -9.54902241e-01,  -9.34147860e-01,\n",
        "        -9.09631995e-01,  -8.81453363e-01,  -8.49725430e-01,\n",
        "        -8.14575952e-01,  -7.76146464e-01,  -7.34591709e-01,\n",
        "        -6.90079011e-01,  -6.42787610e-01,  -5.92907929e-01,\n",
        "        -5.40640817e-01,  -4.86196736e-01,  -4.29794912e-01,\n",
        "        -3.71662456e-01,  -3.12033446e-01,  -2.51147987e-01,\n",
        "        -1.89251244e-01,  -1.26592454e-01,  -6.34239197e-02,\n",
        "        -2.44929360e-16])"
       ]
      }
     ],
     "prompt_number": 17
    },
    {
     "cell_type": "markdown",
     "metadata": {},
     "source": [
      "These are examples of *Universal Functions* or `ufuncs` in NumPy. They operate element-wise on an array. We've already seen examples of these in the various arithmetic operations:"
     ]
    },
    {
     "cell_type": "code",
     "collapsed": false,
     "input": [
      "x = np.random.random(4)\n",
      "print x\n",
      "print x + 1  # add 1 to each element of x"
     ],
     "language": "python",
     "metadata": {},
     "outputs": [
      {
       "output_type": "stream",
       "stream": "stdout",
       "text": [
        "[ 0.34796459  0.40304701  0.49106974  0.4818665 ]\n",
        "[ 1.34796459  1.40304701  1.49106974  1.4818665 ]\n"
       ]
      }
     ],
     "prompt_number": 18
    },
    {
     "cell_type": "code",
     "collapsed": false,
     "input": [
      "print x * 2  # multiply each element of x by 2"
     ],
     "language": "python",
     "metadata": {},
     "outputs": []
    },
    {
     "cell_type": "code",
     "collapsed": false,
     "input": [
      "print x * x  # multiply each element of x by itself"
     ],
     "language": "python",
     "metadata": {},
     "outputs": []
    },
    {
     "cell_type": "code",
     "collapsed": false,
     "input": [
      "print x[1:] - x[:-1]"
     ],
     "language": "python",
     "metadata": {},
     "outputs": []
    },
    {
     "cell_type": "markdown",
     "metadata": {},
     "source": [
      "These are *binary* `ufuncs`: they take two arguments.  There are also *unary* `ufuncs`:"
     ]
    },
    {
     "cell_type": "code",
     "collapsed": false,
     "input": [
      "-x"
     ],
     "language": "python",
     "metadata": {},
     "outputs": [
      {
       "metadata": {},
       "output_type": "pyout",
       "prompt_number": 19,
       "text": [
        "array([-0.34796459, -0.40304701, -0.49106974, -0.4818665 ])"
       ]
      }
     ],
     "prompt_number": 19
    },
    {
     "cell_type": "code",
     "collapsed": false,
     "input": [
      "np.sin(x)"
     ],
     "language": "python",
     "metadata": {},
     "outputs": []
    },
    {
     "cell_type": "markdown",
     "metadata": {},
     "source": [
      "Ufuncs are very fast:"
     ]
    },
    {
     "cell_type": "code",
     "collapsed": false,
     "input": [
      "x = np.random.random(10000)"
     ],
     "language": "python",
     "metadata": {},
     "outputs": [],
     "prompt_number": 20
    },
    {
     "cell_type": "code",
     "collapsed": false,
     "input": [
      "%%timeit\n",
      "# compute element-wise x + 1 via a ufunc \n",
      "y = np.zeros_like(x)\n",
      "y = x + 1"
     ],
     "language": "python",
     "metadata": {},
     "outputs": [
      {
       "output_type": "stream",
       "stream": "stdout",
       "text": [
        "100000 loops, best of 3: 13.6 \u00b5s per loop\n"
       ]
      }
     ],
     "prompt_number": 21
    },
    {
     "cell_type": "code",
     "collapsed": false,
     "input": [
      "%%timeit\n",
      "# compute element-wise x + 1 via a loop\n",
      "y = np.zeros_like(x)\n",
      "for i in range(len(x)):\n",
      "    y[i] = x[i] + 1"
     ],
     "language": "python",
     "metadata": {},
     "outputs": [
      {
       "output_type": "stream",
       "stream": "stdout",
       "text": [
        "100 loops, best of 3: 3.13 ms per loop\n"
       ]
      }
     ],
     "prompt_number": 22
    },
    {
     "cell_type": "markdown",
     "metadata": {},
     "source": [
      "NumPy `ufuncs` are faster than Python functions involving loops, because *the looping happens in compiled code*. This is only possible when types are known beforehand, which is why NumPy arrays must be typed."
     ]
    },
    {
     "cell_type": "heading",
     "level": 3,
     "metadata": {},
     "source": [
      "Other Available Ufuncs:"
     ]
    },
    {
     "cell_type": "markdown",
     "metadata": {},
     "source": [
      "* Trigonometric functions (`np.sin`, `np.cos`, etc.)\n",
      "* Scipy special functions (`scipy.special.j0`, `scipy.special.gammaln`, etc.)\n",
      "* Element-wise minimum/maximum (`np.minimum`, `np.maximum`)\n",
      "* User-defined `ufuncs`"
     ]
    },
    {
     "cell_type": "code",
     "collapsed": false,
     "input": [
      "x = np.random.random(5)\n",
      "print x\n",
      "print np.minimum(x, 0.5)\n",
      "print np.maximum(x, 0.5)"
     ],
     "language": "python",
     "metadata": {},
     "outputs": [
      {
       "output_type": "stream",
       "stream": "stdout",
       "text": [
        "[ 0.34969688  0.28206936  0.2752715   0.61803883  0.31915483]\n",
        "[ 0.34969688  0.28206936  0.2752715   0.5         0.31915483]\n",
        "[ 0.5         0.5         0.5         0.61803883  0.5       ]\n"
       ]
      }
     ],
     "prompt_number": 23
    },
    {
     "cell_type": "markdown",
     "metadata": {},
     "source": [
      "How is this different from `min()` and `max()`?"
     ]
    },
    {
     "cell_type": "code",
     "collapsed": false,
     "input": [
      "print np.min(x)\n",
      "print np.max(x)"
     ],
     "language": "python",
     "metadata": {},
     "outputs": [
      {
       "output_type": "stream",
       "stream": "stdout",
       "text": [
        "0.275271498042\n",
        "0.618038831095\n"
       ]
      }
     ],
     "prompt_number": 24
    },
    {
     "cell_type": "markdown",
     "metadata": {},
     "source": [
      "---"
     ]
    },
    {
     "cell_type": "heading",
     "level": 2,
     "metadata": {},
     "source": [
      "NumPy Aggregates"
     ]
    },
    {
     "cell_type": "markdown",
     "metadata": {},
     "source": [
      "Aggregates are functions over arrays which return smaller arrays.  NumPy has several built-in:"
     ]
    },
    {
     "cell_type": "code",
     "collapsed": false,
     "input": [
      "# 10 x 10 array drawn from a standard normal\n",
      "x = np.random.randn(10, 10)"
     ],
     "language": "python",
     "metadata": {},
     "outputs": [],
     "prompt_number": 26
    },
    {
     "cell_type": "code",
     "collapsed": false,
     "input": [
      "#Mean of the values\n",
      "print x.mean()"
     ],
     "language": "python",
     "metadata": {},
     "outputs": [
      {
       "output_type": "stream",
       "stream": "stdout",
       "text": [
        "-0.0569447997291\n"
       ]
      }
     ],
     "prompt_number": 27
    },
    {
     "cell_type": "code",
     "collapsed": false,
     "input": [
      "#Standard deviation\n",
      "print x.std()"
     ],
     "language": "python",
     "metadata": {},
     "outputs": [
      {
       "output_type": "stream",
       "stream": "stdout",
       "text": [
        "0.940829042338\n"
       ]
      }
     ],
     "prompt_number": 28
    },
    {
     "cell_type": "code",
     "collapsed": false,
     "input": [
      "#Variance\n",
      "print x.var()"
     ],
     "language": "python",
     "metadata": {},
     "outputs": [
      {
       "output_type": "stream",
       "stream": "stdout",
       "text": [
        "0.885159286906\n"
       ]
      }
     ],
     "prompt_number": 29
    },
    {
     "cell_type": "code",
     "collapsed": false,
     "input": [
      "#Sum all elements\n",
      "print x.sum()"
     ],
     "language": "python",
     "metadata": {},
     "outputs": [
      {
       "output_type": "stream",
       "stream": "stdout",
       "text": [
        "-5.69447997291\n"
       ]
      }
     ],
     "prompt_number": 30
    },
    {
     "cell_type": "code",
     "collapsed": false,
     "input": [
      "#Multiply all elements\n",
      "print x.prod()"
     ],
     "language": "python",
     "metadata": {},
     "outputs": [
      {
       "output_type": "stream",
       "stream": "stdout",
       "text": [
        "1.08366827237e-27\n"
       ]
      }
     ],
     "prompt_number": 31
    },
    {
     "cell_type": "code",
     "collapsed": false,
     "input": [
      "#Median\n",
      "print np.median(x)"
     ],
     "language": "python",
     "metadata": {},
     "outputs": [
      {
       "output_type": "stream",
       "stream": "stdout",
       "text": [
        "-0.152851549821\n"
       ]
      }
     ],
     "prompt_number": 32
    },
    {
     "cell_type": "markdown",
     "metadata": {},
     "source": [
      "---"
     ]
    },
    {
     "cell_type": "heading",
     "level": 3,
     "metadata": {},
     "source": [
      "Beware the built-in Python aggregates!"
     ]
    },
    {
     "cell_type": "markdown",
     "metadata": {},
     "source": [
      "Python has a `min`, `max`, and `sum` aggregate built-in. These are much more general than the versions in NumPy, so they are much slower:"
     ]
    },
    {
     "cell_type": "code",
     "collapsed": false,
     "input": [
      "x = np.random.random(10000)\n",
      "\n",
      "%timeit np.sum(x)\n",
      "%timeit sum(x)"
     ],
     "language": "python",
     "metadata": {},
     "outputs": [
      {
       "output_type": "stream",
       "stream": "stdout",
       "text": [
        "100000 loops, best of 3: 6.7 \u00b5s per loop\n",
        "1000 loops, best of 3: 781 \u00b5s per loop"
       ]
      },
      {
       "output_type": "stream",
       "stream": "stdout",
       "text": [
        "\n"
       ]
      }
     ],
     "prompt_number": 33
    },
    {
     "cell_type": "markdown",
     "metadata": {},
     "source": [
      "**Moral of the story:** Dynamic type-checking is slow.   Make sure to use NumPy's `sum`, `min`, and `max`."
     ]
    },
    {
     "cell_type": "markdown",
     "metadata": {},
     "source": [
      "---"
     ]
    },
    {
     "cell_type": "markdown",
     "metadata": {},
     "source": [
      "You can also take aggregates along certain axes:"
     ]
    },
    {
     "cell_type": "code",
     "collapsed": false,
     "input": [
      "x = np.random.rand(3, 5)\n",
      "print x"
     ],
     "language": "python",
     "metadata": {},
     "outputs": [
      {
       "output_type": "stream",
       "stream": "stdout",
       "text": [
        "[[ 0.35988846  0.2662737   0.29160663  0.53438405  0.12033273]\n",
        " [ 0.4237506   0.02820629  0.82075979  0.87672329  0.6306737 ]\n",
        " [ 0.95099423  0.69593628  0.67390813  0.14791896  0.15247371]]\n"
       ]
      }
     ],
     "prompt_number": 34
    },
    {
     "cell_type": "code",
     "collapsed": false,
     "input": [
      "print x.sum(0)  # sum along columns"
     ],
     "language": "python",
     "metadata": {},
     "outputs": [
      {
       "output_type": "stream",
       "stream": "stdout",
       "text": [
        "[ 1.7346333   0.99041626  1.78627454  1.5590263   0.90348015]\n"
       ]
      }
     ],
     "prompt_number": 35
    },
    {
     "cell_type": "code",
     "collapsed": false,
     "input": [
      "print x.sum(1)  # sum along rows"
     ],
     "language": "python",
     "metadata": {},
     "outputs": [
      {
       "output_type": "stream",
       "stream": "stdout",
       "text": [
        "[ 1.57248557  2.78011367  2.62123131]\n"
       ]
      }
     ],
     "prompt_number": 36
    },
    {
     "cell_type": "code",
     "collapsed": false,
     "input": [
      "print np.mean(x, 1) # mean along rows"
     ],
     "language": "python",
     "metadata": {},
     "outputs": [
      {
       "output_type": "stream",
       "stream": "stdout",
       "text": [
        "[ 0.31449711  0.55602273  0.52424626]\n"
       ]
      }
     ],
     "prompt_number": 37
    },
    {
     "cell_type": "markdown",
     "metadata": {},
     "source": [
      "---"
     ]
    },
    {
     "cell_type": "heading",
     "level": 2,
     "metadata": {},
     "source": [
      "More slicing and Masking"
     ]
    },
    {
     "cell_type": "markdown",
     "metadata": {},
     "source": [
      "Imagine you have an array of data where negative values indicate some kind of error:"
     ]
    },
    {
     "cell_type": "code",
     "collapsed": false,
     "input": [
      "x = np.array([1, 2, 3, -999, 2, 4, -999])"
     ],
     "language": "python",
     "metadata": {},
     "outputs": [],
     "prompt_number": 38
    },
    {
     "cell_type": "markdown",
     "metadata": {},
     "source": [
      "How might you clean this array, setting all negative values to, say, zero?"
     ]
    },
    {
     "cell_type": "code",
     "collapsed": false,
     "input": [
      "for i in range(len(x)):\n",
      "    if x[i] < 0:\n",
      "        x[i] = 0\n",
      "print x"
     ],
     "language": "python",
     "metadata": {},
     "outputs": [
      {
       "output_type": "stream",
       "stream": "stdout",
       "text": [
        "[1 2 3 0 2 4 0]\n"
       ]
      }
     ],
     "prompt_number": 39
    },
    {
     "cell_type": "markdown",
     "metadata": {},
     "source": [
      "A faster way is to construct a *boolean mask*:"
     ]
    },
    {
     "cell_type": "code",
     "collapsed": false,
     "input": [
      "x = np.array([1, 2, 3, -999, 2, 4, -999])\n",
      "\n",
      "mask = (x < 0)\n",
      "print mask"
     ],
     "language": "python",
     "metadata": {},
     "outputs": [
      {
       "output_type": "stream",
       "stream": "stdout",
       "text": [
        "[False False False  True False False  True]\n"
       ]
      }
     ],
     "prompt_number": 40
    },
    {
     "cell_type": "markdown",
     "metadata": {},
     "source": [
      "And the mask can be used directly to set the value you desire:"
     ]
    },
    {
     "cell_type": "code",
     "collapsed": false,
     "input": [
      "x[mask] = 0\n",
      "print x"
     ],
     "language": "python",
     "metadata": {},
     "outputs": [
      {
       "output_type": "stream",
       "stream": "stdout",
       "text": [
        "[1 2 3 0 2 4 0]\n"
       ]
      }
     ],
     "prompt_number": 41
    },
    {
     "cell_type": "markdown",
     "metadata": {},
     "source": [
      "Or do it directly:"
     ]
    },
    {
     "cell_type": "code",
     "collapsed": false,
     "input": [
      "x = np.array([1, 2, 3, -999, 2, 4, -999])\n",
      "x[x < 0] = 0\n",
      "print x"
     ],
     "language": "python",
     "metadata": {},
     "outputs": [
      {
       "output_type": "stream",
       "stream": "stdout",
       "text": [
        "[1 2 3 0 2 4 0]\n"
       ]
      }
     ],
     "prompt_number": 42
    },
    {
     "cell_type": "heading",
     "level": 3,
     "metadata": {},
     "source": [
      "Useful masking functions:"
     ]
    },
    {
     "cell_type": "code",
     "collapsed": false,
     "input": [
      "x = np.random.random(5)\n",
      "print x"
     ],
     "language": "python",
     "metadata": {},
     "outputs": [
      {
       "output_type": "stream",
       "stream": "stdout",
       "text": [
        "[ 0.82025926  0.43600079  0.33406595  0.61056396  0.65204078]\n"
       ]
      }
     ],
     "prompt_number": 45
    },
    {
     "cell_type": "code",
     "collapsed": false,
     "input": [
      "x[x > 0.5] = np.nan\n",
      "print x"
     ],
     "language": "python",
     "metadata": {},
     "outputs": [
      {
       "output_type": "stream",
       "stream": "stdout",
       "text": [
        "[        nan  0.43600079  0.33406595         nan         nan]\n"
       ]
      }
     ],
     "prompt_number": 46
    },
    {
     "cell_type": "code",
     "collapsed": false,
     "input": [
      "x[np.isnan(x)] = np.inf\n",
      "print x"
     ],
     "language": "python",
     "metadata": {},
     "outputs": [
      {
       "output_type": "stream",
       "stream": "stdout",
       "text": [
        "[        inf  0.43600079  0.33406595         inf         inf]\n"
       ]
      }
     ],
     "prompt_number": 47
    },
    {
     "cell_type": "code",
     "collapsed": false,
     "input": [
      "np.nan == np.nan"
     ],
     "language": "python",
     "metadata": {},
     "outputs": [
      {
       "metadata": {},
       "output_type": "pyout",
       "prompt_number": 49,
       "text": [
        "False"
       ]
      }
     ],
     "prompt_number": 49
    },
    {
     "cell_type": "code",
     "collapsed": false,
     "input": [
      "x[np.isinf(x)] = 0\n",
      "print x"
     ],
     "language": "python",
     "metadata": {},
     "outputs": [
      {
       "output_type": "stream",
       "stream": "stdout",
       "text": [
        "[ 0.          0.43600079  0.33406595  0.          0.        ]\n"
       ]
      }
     ],
     "prompt_number": 50
    },
    {
     "cell_type": "code",
     "collapsed": false,
     "input": [
      "x = np.array([1, 0, -np.inf, np.inf, np.nan])\n",
      "print \"input   \", x\n",
      "print \"x < 0   \", (x < 0)\n",
      "print \"x > 0   \", (x > 0)\n",
      "print \"isinf   \", np.isinf(x)\n",
      "print \"isfinite\", np.isfinite(x)\n",
      "print \"isnan   \", np.isnan(x)\n",
      "print \"isposinf\", np.isposinf(x)\n",
      "print \"isneginf\", np.isneginf(x)"
     ],
     "language": "python",
     "metadata": {},
     "outputs": [
      {
       "output_type": "stream",
       "stream": "stdout",
       "text": [
        "input    [  1.   0. -inf  inf  nan]\n",
        "x < 0    [False False  True False False]\n",
        "x > 0    [ True False False  True False]\n",
        "isinf    [False False  True  True False]\n",
        "isfinite [ True  True False False False]\n",
        "isnan    [False False False False  True]\n",
        "isposinf [False False False  True False]\n",
        "isneginf [False False  True False False]\n"
       ]
      }
     ],
     "prompt_number": 53
    },
    {
     "cell_type": "code",
     "collapsed": false,
     "input": [
      "print np.nan_to_num(x) #Map nan to 0, inf to max float, -inf to min float"
     ],
     "language": "python",
     "metadata": {},
     "outputs": [
      {
       "output_type": "stream",
       "stream": "stdout",
       "text": [
        "[  1.00000000e+000   0.00000000e+000  -1.79769313e+308   1.79769313e+308\n",
        "   0.00000000e+000]\n"
       ]
      }
     ],
     "prompt_number": 55
    },
    {
     "cell_type": "markdown",
     "metadata": {},
     "source": [
      "You can also use bitwise boolean operations on masks with parentheses:"
     ]
    },
    {
     "cell_type": "code",
     "collapsed": false,
     "input": [
      "x = np.arange(16).reshape((4, 4))\n",
      "print x"
     ],
     "language": "python",
     "metadata": {},
     "outputs": [
      {
       "output_type": "stream",
       "stream": "stdout",
       "text": [
        "[[ 0  1  2  3]\n",
        " [ 4  5  6  7]\n",
        " [ 8  9 10 11]\n",
        " [12 13 14 15]]\n"
       ]
      }
     ],
     "prompt_number": 56
    },
    {
     "cell_type": "code",
     "collapsed": false,
     "input": [
      "print (x < 5)"
     ],
     "language": "python",
     "metadata": {},
     "outputs": [
      {
       "output_type": "stream",
       "stream": "stdout",
       "text": [
        "[[ True  True  True  True]\n",
        " [ True False False False]\n",
        " [False False False False]\n",
        " [False False False False]]\n"
       ]
      }
     ],
     "prompt_number": 57
    },
    {
     "cell_type": "code",
     "collapsed": false,
     "input": [
      "#Or the complement of that operation:\n",
      "print ~(x < 5)"
     ],
     "language": "python",
     "metadata": {},
     "outputs": [
      {
       "output_type": "stream",
       "stream": "stdout",
       "text": [
        "[[False False False False]\n",
        " [False  True  True  True]\n",
        " [ True  True  True  True]\n",
        " [ True  True  True  True]]\n"
       ]
      }
     ],
     "prompt_number": 58
    },
    {
     "cell_type": "code",
     "collapsed": false,
     "input": [
      "#Elements evaluate to true if they match both conditions\n",
      "print (x < 10) & (x % 2 == 0)"
     ],
     "language": "python",
     "metadata": {},
     "outputs": [
      {
       "output_type": "stream",
       "stream": "stdout",
       "text": [
        "[[ True False  True False]\n",
        " [ True False  True False]\n",
        " [ True False False False]\n",
        " [False False False False]]\n"
       ]
      }
     ],
     "prompt_number": 59
    },
    {
     "cell_type": "code",
     "collapsed": false,
     "input": [
      "#select elements within a range\n",
      "print (x > 3) & (x < 8)"
     ],
     "language": "python",
     "metadata": {},
     "outputs": [
      {
       "output_type": "stream",
       "stream": "stdout",
       "text": [
        "[[False False False False]\n",
        " [ True  True  True  True]\n",
        " [False False False False]\n",
        " [False False False False]]\n"
       ]
      }
     ],
     "prompt_number": 60
    },
    {
     "cell_type": "markdown",
     "metadata": {},
     "source": [
      "Sum over a mask to find the number of True elements:"
     ]
    },
    {
     "cell_type": "code",
     "collapsed": false,
     "input": [
      "x = np.random.random(100)\n",
      "print \"array is length\", len(x), \"and has\"\n",
      "print (x > 0.5).sum(), \"elements that are greater than 0.5\""
     ],
     "language": "python",
     "metadata": {},
     "outputs": [
      {
       "output_type": "stream",
       "stream": "stdout",
       "text": [
        "array is length 100 and has\n",
        "45 elements that are greater than 0.5\n"
       ]
      }
     ],
     "prompt_number": 61
    },
    {
     "cell_type": "markdown",
     "metadata": {},
     "source": [
      "Clip is a useful function.  See if you can figure out what it does."
     ]
    },
    {
     "cell_type": "code",
     "collapsed": false,
     "input": [
      "x = np.random.random(10)\n",
      "x = np.clip(x, 0.3, 0.6)\n",
      "\n",
      "print np.sum(x < 0.3)\n",
      "print np.sum(x > 0.6)"
     ],
     "language": "python",
     "metadata": {},
     "outputs": [
      {
       "output_type": "stream",
       "stream": "stdout",
       "text": [
        "0\n",
        "0\n"
       ]
      }
     ],
     "prompt_number": 82
    },
    {
     "cell_type": "code",
     "collapsed": false,
     "input": [
      "print x"
     ],
     "language": "python",
     "metadata": {},
     "outputs": [
      {
       "output_type": "stream",
       "stream": "stdout",
       "text": [
        "[ 0.3         0.3         0.51839435  0.6         0.3         0.6         0.3\n",
        "  0.3         0.6         0.3       ]\n"
       ]
      }
     ],
     "prompt_number": 80
    },
    {
     "cell_type": "markdown",
     "metadata": {},
     "source": [
      "You can also turn a mask into information about the indices using the `where` function."
     ]
    },
    {
     "cell_type": "code",
     "collapsed": false,
     "input": [
      "x = np.random.random((3, 3))\n",
      "print x"
     ],
     "language": "python",
     "metadata": {},
     "outputs": [
      {
       "output_type": "stream",
       "stream": "stdout",
       "text": [
        "[[ 0.26660078  0.29327384  0.35514658]\n",
        " [ 0.23419828  0.9454148   0.30976145]\n",
        " [ 0.80537298  0.90673607  0.35254722]]\n"
       ]
      }
     ],
     "prompt_number": 109
    },
    {
     "cell_type": "code",
     "collapsed": false,
     "input": [
      "print np.where(x < 0.3)"
     ],
     "language": "python",
     "metadata": {},
     "outputs": [
      {
       "output_type": "stream",
       "stream": "stdout",
       "text": [
        "(array([0, 0, 1]), array([0, 1, 0]))\n"
       ]
      }
     ],
     "prompt_number": 110
    },
    {
     "cell_type": "code",
     "collapsed": false,
     "input": [
      "print x[x < 0.3]"
     ],
     "language": "python",
     "metadata": {},
     "outputs": [
      {
       "output_type": "stream",
       "stream": "stdout",
       "text": [
        "[ 0.26660078  0.29327384  0.23419828]\n"
       ]
      }
     ],
     "prompt_number": 111
    },
    {
     "cell_type": "code",
     "collapsed": false,
     "input": [
      "print x[np.where(x < 0.3)]"
     ],
     "language": "python",
     "metadata": {},
     "outputs": [
      {
       "output_type": "stream",
       "stream": "stdout",
       "text": [
        "[ 0.26660078  0.29327384  0.23419828]\n"
       ]
      }
     ],
     "prompt_number": 112
    },
    {
     "cell_type": "markdown",
     "metadata": {},
     "source": [
      "Another useful trick (poker, anyone?):"
     ]
    },
    {
     "cell_type": "code",
     "collapsed": false,
     "input": [
      "i = np.arange(6)\n",
      "print \"Original order:\",i\n",
      "np.random.shuffle(i)\n",
      "print \"Randomly shuffled:\",i"
     ],
     "language": "python",
     "metadata": {},
     "outputs": []
    },
    {
     "cell_type": "markdown",
     "metadata": {},
     "source": [
      "---"
     ]
    },
    {
     "cell_type": "heading",
     "level": 1,
     "metadata": {},
     "source": [
      "Summary:"
     ]
    },
    {
     "cell_type": "markdown",
     "metadata": {},
     "source": [
      "The advantage of using NumPy is all about moving loops into compiled code:\n",
      "    \n",
      "* Use NumPy *ufuncs* to your advantage (eliminate loops!)\n",
      "\n",
      "* Use NumPy *aggregates* to your advantage (eliminate loops!)\n",
      "\n",
      "* Use NumPy *broadcasting* to your advantage (eliminate loops!)\n",
      "\n",
      "* Use NumPy *slicing and masking* to your advantage (eliminate loops!)"
     ]
    },
    {
     "cell_type": "markdown",
     "metadata": {},
     "source": [
      "---"
     ]
    },
    {
     "cell_type": "heading",
     "level": 2,
     "metadata": {},
     "source": [
      "Example: Image Processing"
     ]
    },
    {
     "cell_type": "markdown",
     "metadata": {},
     "source": [
      "This example introduces some of the image processing capabilities available with NumPy and the SciPy `ndimage` package.  More extensive documentation and tutorials can be found through the [SciPy Lectures series](http://scipy-lectures.github.io/advanced/image_processing/index.html#basic-image).  \n",
      "\n",
      "Before introducing these elegant capabilities to introductory students, I have them do a lesson in traditional coding of image feature extraction adapted from the [Multimedia Programming](http://software-carpentry.org/v4/media/index.html) lesson at [Software Carpentry](http://software-carpentry.org).  \n",
      "\n",
      "For a comparison of the speed of using the compiled NumPy/SciPy libraries versus the traditional looping, have a look at the [Benchmarking notebook](Benchmarking.ipynb) in this Github repo."
     ]
    },
    {
     "cell_type": "heading",
     "level": 3,
     "metadata": {},
     "source": [
      "Image I/O"
     ]
    },
    {
     "cell_type": "markdown",
     "metadata": {},
     "source": [
      "Reading in and manipulating image data can be accomplished with NumPy or another built-in image library designed for image processing, such as the \"Python Imaging Library\" or [PIL](http://www.pythonware.com/products/pil/)."
     ]
    },
    {
     "cell_type": "markdown",
     "metadata": {},
     "source": [
      "For example, we might want to read in a beautiful image of a star field taken by the Hubble Space Telescope.  Have a look at some of these images:\n",
      "\n",
      "* [http://imgsrc.hubblesite.org/hu/db/images/hs-2004-20-a-large_web.jpg](http://imgsrc.hubblesite.org/hu/db/images/hs-2004-20-a-large_web.jpg)\n",
      "* [http://imgsrc.hubblesite.org/hu/db/images/hs-1993-13-a-large_web.jpg](http://imgsrc.hubblesite.org/hu/db/images/hs-1993-13-a-large_web.jpg)\n",
      "* [http://imgsrc.hubblesite.org/hu/db/images/hs-1995-32-c-full_jpg.jpg](http://imgsrc.hubblesite.org/hu/db/images/hs-1995-32-c-full_jpg.jpg)\n",
      "* [http://imgsrc.hubblesite.org/hu/db/images/hs-1993-13-a-large_web.jpg](http://imgsrc.hubblesite.org/hu/db/images/hs-1993-13-a-large_web.jpg)\n",
      "* [http://imgsrc.hubblesite.org/hu/db/images/hs-2002-10-c-large_web.jpg](http://imgsrc.hubblesite.org/hu/db/images/hs-2002-10-c-large_web.jpg)\n",
      "* [http://imgsrc.hubblesite.org/hu/db/images/hs-1999-30-b-full_jpg.jpg](http://imgsrc.hubblesite.org/hu/db/images/hs-1999-30-b-full_jpg.jpg)"
     ]
    },
    {
     "cell_type": "markdown",
     "metadata": {},
     "source": [
      "Recall that color images are just arrays of numbers representing pixel locations and the color depth of each of Red, Green, and Blue.  The different file formats (`jpg`, `png`, `tiff`, etc.) also contain additional information (headers, for example) that an image reading function needs to know about.  We can use PIL to read image data into NumPy arrays.  If we want to fetch a file off the web, we also need some help from the `requests` and `StringIO` libraries: "
     ]
    },
    {
     "cell_type": "code",
     "collapsed": false,
     "input": [
      "from PIL import Image\n",
      "from scipy.ndimage import imread\n",
      "import requests\n",
      "from StringIO import StringIO"
     ],
     "language": "python",
     "metadata": {},
     "outputs": [],
     "prompt_number": 408
    },
    {
     "cell_type": "code",
     "collapsed": false,
     "input": [
      "#Pick an image from the list above and fetch it with requests.get \n",
      "#The default picture here is of M45 - the Pleiades Star Cluster.\n",
      "response = requests.get(\"http://imgsrc.hubblesite.org/hu/db/images/hs-2004-20-a-large_web.jpg\")\n",
      "pic = Image.open(StringIO(response.content))\n",
      "pic = imread(StringIO(response.content))"
     ],
     "language": "python",
     "metadata": {},
     "outputs": [],
     "prompt_number": 410
    },
    {
     "cell_type": "heading",
     "level": 3,
     "metadata": {},
     "source": [
      "Image Visualization"
     ]
    },
    {
     "cell_type": "markdown",
     "metadata": {},
     "source": [
      "We can plot the image using `matplotlib`:"
     ]
    },
    {
     "cell_type": "code",
     "collapsed": false,
     "input": [
      "%pylab inline #renders the plots inside the Notebook instead of in separate windows\n",
      "import matplotlib.pyplot as plt"
     ],
     "language": "python",
     "metadata": {},
     "outputs": [
      {
       "output_type": "stream",
       "stream": "stdout",
       "text": [
        "Populating the interactive namespace from numpy and matplotlib\n"
       ]
      },
      {
       "output_type": "stream",
       "stream": "stderr",
       "text": [
        "WARNING: pylab import has clobbered these variables: ['plt']\n",
        "`%matplotlib` prevents importing * from pylab and numpy\n"
       ]
      }
     ],
     "prompt_number": 87
    },
    {
     "cell_type": "code",
     "collapsed": false,
     "input": [
      "plt.imshow(pic);"
     ],
     "language": "python",
     "metadata": {},
     "outputs": [
      {
       "metadata": {},
       "output_type": "display_data",
       "png": "[encoded data removed]",
       "text": [
        "<matplotlib.figure.Figure at 0x10ed4dc10>"
       ]
      }
     ],
     "prompt_number": 411
    },
    {
     "cell_type": "heading",
     "level": 3,
     "metadata": {},
     "source": [
      "Image Inspection"
     ]
    },
    {
     "cell_type": "markdown",
     "metadata": {},
     "source": [
      "We can examine the image properties:"
     ]
    },
    {
     "cell_type": "code",
     "collapsed": false,
     "input": [
      "print pic.shape"
     ],
     "language": "python",
     "metadata": {},
     "outputs": [
      {
       "output_type": "stream",
       "stream": "stdout",
       "text": [
        "(576, 799, 3)\n"
       ]
      }
     ],
     "prompt_number": 419
    },
    {
     "cell_type": "markdown",
     "metadata": {},
     "source": [
      "Pixel coordinates are (column,row)."
     ]
    },
    {
     "cell_type": "markdown",
     "metadata": {},
     "source": [
      "Colors are represented by RGB triples.  Black is (0,0,0), White is (255, 255, 255) or (0xFF, 0xFF, 0xFF) in hexadecimal.  Think of it as a color cube with the three axes representing the different possible colors.  The furthest away from the origin (black) is white."
     ]
    },
    {
     "cell_type": "code",
     "collapsed": false,
     "input": [
      "#Color array [R,G,B] of very first pixel\n",
      "print pic[0,0]"
     ],
     "language": "python",
     "metadata": {},
     "outputs": [
      {
       "output_type": "stream",
       "stream": "stdout",
       "text": [
        "[17 14  9]\n"
       ]
      }
     ],
     "prompt_number": 418
    },
    {
     "cell_type": "markdown",
     "metadata": {},
     "source": [
      "We could write code to find the brightest pixel in the image, where \"brightest\" means highest value of R+G+B.  For the 256 color scale, the greatest possible value is 3 * 255, or 765.  One way to do this would be to write a set of nested loops over the pixel dimensions, calculating the sum R+G+B for each pixel, but that would be rather tedious and slow. \n",
      "\n",
      "We could process the information faster if we take advantage of the speedy NumPy slicing, aggregates, and ufuncs.  Remember that any time we can eliminate interpreted Python loops we save a lot of processing time."
     ]
    },
    {
     "cell_type": "code",
     "collapsed": false,
     "input": [
      "#find value of max pixel with aggregates\n",
      "print pic.sum(axis=2).max() #numbering from 0, axis 2 is the color depth"
     ],
     "language": "python",
     "metadata": {},
     "outputs": [
      {
       "output_type": "stream",
       "stream": "stdout",
       "text": [
        "758\n"
       ]
      }
     ],
     "prompt_number": 420
    },
    {
     "cell_type": "heading",
     "level": 3,
     "metadata": {},
     "source": [
      "Image Feature Extraction"
     ]
    },
    {
     "cell_type": "markdown",
     "metadata": {},
     "source": [
      "Now that we know how to read in the image as a NumPy array, let's count the stars above some threshold brightness. Start by converting the image to B/W, so that which pixels belong to stars and which don't is unambiguous.  We'll use black for stars and white for background, since it's easier to see black-on-white than the reverse."
     ]
    },
    {
     "cell_type": "code",
     "collapsed": false,
     "input": [
      "def monochrome(pic_array, threshold):\n",
      "    \"\"\"replace the RGB values in the loaded image with either \n",
      "    black or white depending on whether its total \n",
      "    luminance is above or below some threshold \n",
      "    passed in by the user\"\"\"\n",
      "    mask = (pic_array.sum(axis=2) >= threshold) #could also be done in one step\n",
      "    pic_array[mask] = 0 #BLACK broadcasting works here\n",
      "    pic_array[~mask] = 255 #WHITE broadcasting works here\n",
      "    return"
     ],
     "language": "python",
     "metadata": {},
     "outputs": [],
     "prompt_number": 444
    },
    {
     "cell_type": "code",
     "collapsed": false,
     "input": [
      "#Get another copy to convert to B/W\n",
      "bwpic = imread(StringIO(response.content))\n",
      "\n",
      "#This threshold is a scalar, not an RGB triple\n",
      "#We're looking for pixels whose total color value is 600 or greater\n",
      "monochrome(bwpic,200+200+200)\n",
      "plt.imshow(bwpic);"
     ],
     "language": "python",
     "metadata": {},
     "outputs": [
      {
       "metadata": {},
       "output_type": "display_data",
       "png": "[encoded data removed]",
       "text": [
        "<matplotlib.figure.Figure at 0x11841e290>"
       ]
      }
     ],
     "prompt_number": 447
    },
    {
     "cell_type": "markdown",
     "metadata": {},
     "source": [
      "The way to count the features (stars) in the image is to identify \"blobs\" of connected or adjacent black pixels.  \n",
      "\n",
      "1. Decide what we mean by \"adjacent\": sharing sides of square pixels but not corners.  i.e. directly above, below, left, or right from each other, not if they are touching diagonally.\n",
      "\n",
      "2. Count each one just once.\n",
      "  * Scan the image left-right, top-bottom\n",
      "  * Each time we find a new blob, increment the count"
     ]
    },
    {
     "cell_type": "markdown",
     "metadata": {},
     "source": [
      "How do we tell whether the pixel we're looking at is part of a new blob or not?"
     ]
    },
    {
     "cell_type": "markdown",
     "metadata": {},
     "source": [
      "In the following illustration, we mark counted black pixels by turning them red.  If the pixel we're looking at touches one that has already been turned red, then it's part of a blob we have already counted. We'll turn it red to show that we have looked at it, but we won't count it as a star, since it belongs to a star we've already counted."
     ]
    },
    {
     "cell_type": "markdown",
     "metadata": {},
     "source": [
      "<table align=\"center\">\n",
      "<tr>\n",
      "<td width=\"25%\"><img src=\"img/Slide01.jpg\" width=300> Sweep across the field left-to-right, top-to-bottom, until we find the first non-zero pixel.</td>\n",
      "<td width=\"25%\"><img src=\"img/Slide02.jpg\" width=300> Once it is found mark it as red.</td>\n",
      "<td width=\"25%\"><img src=\"img/Slide03.jpg\" width=300> Look to the left and above to see if it is part of an already counted blob.  If not, increment the counter.</td>\n",
      "<td width=\"25%\"><img src=\"img/Slide04.jpg\" width=300> Proceed to the right.</td>\n",
      "</tr>\n",
      "<tr>\n",
      "<td width=\"25%\"><img src=\"img/Slide05.jpg\" width=300> Follow the same procedure as before to decide whether the count should be incremented.</td>\n",
      "<td width=\"25%\"><img src=\"img/Slide06.jpg\" width=300> When we reach the next blob, repeat.</td>\n",
      "<td width=\"25%\"><img src=\"img/Slide07.jpg\" width=300> Hmm...Maybe we should modify the \"already counted\" procedure?</td>\n",
      "<td width=\"25%\"><img src=\"img/Slide08.jpg\" width=300> We could add the diagonals...</td>\n",
      "</tr>\n",
      "<tr>\n",
      "<td width=\"25%\"><img src=\"img/Slide09.jpg\" width=300> But that could fail on the this pixel.</td>\n",
      "<td width=\"25%\"><img src=\"img/Slide10.jpg\" width=250> And what about a case like this?</td>\n",
      "<td width=\"25%\"><img src=\"img/Slide11.jpg\" width=250> Maybe we could try a \"flood-fill\" algorithm.  Sweep across the field until a black pixel is encountered.</td>\n",
      "<td width=\"25%\"><img src=\"img/Slide12.jpg\" width=250> Mark it red.</td>\n",
      "</tr>\n",
      "<tr>\n",
      "<td width=\"25%\"><img src=\"img/Slide13.jpg\" width=250> Check for neighbors on all sides.</td>\n",
      "<td width=\"25%\"><img src=\"img/Slide14.jpg\" width=250> Move to the first neighbor and mark it red.</td>\n",
      "<td width=\"25%\"><img src=\"img/Slide15.jpg\" width=250> Now check its neighbors and repeat until there are no more unchecked neighbors.\n",
      "<td width=\"25%\"><img src=\"img/Slide16.jpg\" width=250> Done.</td>\n",
      "</tr>\n",
      "</table>"
     ]
    },
    {
     "cell_type": "markdown",
     "metadata": {},
     "source": [
      "A traditional implementation of this algorithm is presented in the Software Carpentry lesson and provided in the [Benchmarking notebook](Benchmarking.ipynb).  Let's see how to implement such an algorithm much more efficiently using `numpy` and `scipy.ndimage`.  "
     ]
    },
    {
     "cell_type": "markdown",
     "metadata": {},
     "source": [
      "The `scipy.ndimage.label` function will use a structuring element (cross-shaped by default) to search for features.  As an example, consider the simple array:"
     ]
    },
    {
     "cell_type": "code",
     "collapsed": false,
     "input": [
      "from scipy.ndimage import label"
     ],
     "language": "python",
     "metadata": {},
     "outputs": [],
     "prompt_number": 427
    },
    {
     "cell_type": "code",
     "collapsed": false,
     "input": [
      "a = np.array([[0,0,1,1,0,0],\n",
      "              [0,0,0,1,0,0],\n",
      "              [1,1,0,0,1,0],\n",
      "              [0,0,0,1,0,0]])"
     ],
     "language": "python",
     "metadata": {},
     "outputs": [],
     "prompt_number": 428
    },
    {
     "cell_type": "markdown",
     "metadata": {},
     "source": [
      "There are four unique features here, if we only count those that have neighbors along a cross-shaped structuring element."
     ]
    },
    {
     "cell_type": "code",
     "collapsed": false,
     "input": [
      "labeled_array, num_features = label(a)"
     ],
     "language": "python",
     "metadata": {},
     "outputs": [],
     "prompt_number": 432
    },
    {
     "cell_type": "code",
     "collapsed": false,
     "input": [
      "print(num_features)"
     ],
     "language": "python",
     "metadata": {},
     "outputs": [
      {
       "output_type": "stream",
       "stream": "stdout",
       "text": [
        "4\n"
       ]
      }
     ],
     "prompt_number": 433
    },
    {
     "cell_type": "code",
     "collapsed": false,
     "input": [
      "print(labeled_array)"
     ],
     "language": "python",
     "metadata": {},
     "outputs": [
      {
       "output_type": "stream",
       "stream": "stdout",
       "text": [
        "[[0 0 1 1 0 0]\n",
        " [0 0 0 1 0 0]\n",
        " [2 2 0 0 3 0]\n",
        " [0 0 0 4 0 0]]\n"
       ]
      }
     ],
     "prompt_number": 434
    },
    {
     "cell_type": "markdown",
     "metadata": {},
     "source": [
      "If we wish to consider elements connected on the diagonal, as well as the cross structure, we define a new structuring element:"
     ]
    },
    {
     "cell_type": "code",
     "collapsed": false,
     "input": [
      "s = [[1,1,1],\n",
      "     [1,1,1],\n",
      "     [1,1,1]]\n",
      "\n",
      "#Note, that scipy.ndimage.generate_binary_structure(2,2) would also do the same thing.\n",
      "print s"
     ],
     "language": "python",
     "metadata": {},
     "outputs": [
      {
       "output_type": "stream",
       "stream": "stdout",
       "text": [
        "[[1, 1, 1], [1, 1, 1], [1, 1, 1]]\n"
       ]
      }
     ],
     "prompt_number": 437
    },
    {
     "cell_type": "markdown",
     "metadata": {},
     "source": [
      "Label the image using the new structuring element:"
     ]
    },
    {
     "cell_type": "code",
     "collapsed": false,
     "input": [
      "labeled_array, num_features = label(a, structure=s)"
     ],
     "language": "python",
     "metadata": {},
     "outputs": [],
     "prompt_number": 438
    },
    {
     "cell_type": "code",
     "collapsed": false,
     "input": [
      "print(num_features)"
     ],
     "language": "python",
     "metadata": {},
     "outputs": [
      {
       "output_type": "stream",
       "stream": "stdout",
       "text": [
        "2\n"
       ]
      }
     ],
     "prompt_number": 439
    },
    {
     "cell_type": "markdown",
     "metadata": {},
     "source": [
      "Note that features 1, 3, and 4 from above are now considered a single feature"
     ]
    },
    {
     "cell_type": "code",
     "collapsed": false,
     "input": [
      "print(labeled_array)"
     ],
     "language": "python",
     "metadata": {},
     "outputs": [
      {
       "output_type": "stream",
       "stream": "stdout",
       "text": [
        "[[0 0 1 1 0 0]\n",
        " [0 0 0 1 0 0]\n",
        " [2 2 0 0 1 0]\n",
        " [0 0 0 1 0 0]]\n"
       ]
      }
     ],
     "prompt_number": 398
    },
    {
     "cell_type": "markdown",
     "metadata": {},
     "source": [
      "Let's use this to count up the stars in our B/W starfield image."
     ]
    },
    {
     "cell_type": "code",
     "collapsed": false,
     "input": [
      "print num_stars\n",
      "#print bwpic[0,91]\n",
      "#label returns an array the same shape as the input where each \"unique feature has a unique value\", \n",
      "#so if you want the indices of the features you can do something like:\n",
      "#label_indices = [(new == i).nonzero() for i in xrange(1, cnt+1)]\n",
      "#print label_indices"
     ],
     "language": "python",
     "metadata": {},
     "outputs": [
      {
       "output_type": "stream",
       "stream": "stdout",
       "text": [
        "121\n"
       ]
      }
     ],
     "prompt_number": 453
    },
    {
     "cell_type": "code",
     "collapsed": false,
     "input": [
      "labeled_array, num_stars = label(~bwpic) #Label the complement"
     ],
     "language": "python",
     "metadata": {},
     "outputs": [],
     "prompt_number": 452
    },
    {
     "cell_type": "code",
     "collapsed": false,
     "input": [
      "plt.imshow(labeled_array)"
     ],
     "language": "python",
     "metadata": {},
     "outputs": [
      {
       "metadata": {},
       "output_type": "pyout",
       "prompt_number": 457,
       "text": [
        "<matplotlib.image.AxesImage at 0x11940d4d0>"
       ]
      },
      {
       "metadata": {},
       "output_type": "display_data",
       "png": "[encoded data removed]",
       "text": [
        "<matplotlib.figure.Figure at 0x117d4b0d0>"
       ]
      }
     ],
     "prompt_number": 457
    },
    {
     "cell_type": "code",
     "collapsed": false,
     "input": [
      "from scipy.ndimage import find_objects"
     ],
     "language": "python",
     "metadata": {},
     "outputs": [],
     "prompt_number": 458
    },
    {
     "cell_type": "code",
     "collapsed": false,
     "input": [
      "locations = find_objects(labeled_array)"
     ],
     "language": "python",
     "metadata": {},
     "outputs": [],
     "prompt_number": 459
    },
    {
     "cell_type": "code",
     "collapsed": false,
     "input": [
      "print locations[1]"
     ],
     "language": "python",
     "metadata": {},
     "outputs": [
      {
       "output_type": "stream",
       "stream": "stdout",
       "text": [
        "(slice(2L, 3L, None), slice(142L, 143L, None), slice(0L, 3L, None))\n"
       ]
      }
     ],
     "prompt_number": 464
    },
    {
     "cell_type": "code",
     "collapsed": false,
     "input": [
      "print locations[120]\n",
      "print labeled_array[locations[120]]"
     ],
     "language": "python",
     "metadata": {},
     "outputs": []
    },
    {
     "cell_type": "heading",
     "level": 2,
     "metadata": {},
     "source": [
      "Exercises"
     ]
    },
    {
     "cell_type": "markdown",
     "metadata": {},
     "source": [
      "For fun and practice, you can use these tricks to analyze the whole set of pictures listed at the top of this section.  Suggested activities include:"
     ]
    },
    {
     "cell_type": "markdown",
     "metadata": {},
     "source": [
      "* Find the brightest pixel within each star identified using the `scipy.ndimage.label` function\n",
      "* Use the `scipy.ndimage.centre_of_mass` function to identify the \"location\" of each star in pixel coordinates.\n",
      "* Write out a text file containing\n",
      "\n",
      "   * a **header** which includes\n",
      "      * the link to the image\n",
      "      * the threshold value used in the conversion to monochrome\n",
      "      * the structuring element used to count its stars\n",
      "      * how many stars were found\n",
      "      * a description of the data in the subsequent columns\n",
      "   * a **list of the star data** organized in three columns and formatted for easy reading as follows:\n",
      "      * location (x,y in pixel units)\n",
      "      * maximum brightness value for the star"
     ]
    },
    {
     "cell_type": "markdown",
     "metadata": {},
     "source": [
      "---"
     ]
    }
   ],
   "metadata": {}
  }
 ]
}